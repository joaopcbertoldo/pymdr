{
 "cells": [
  {
   "cell_type": "markdown",
   "metadata": {},
   "source": [
    "z# With lists\n",
    "\n",
    "## Context\n",
    "\n",
    "The algorithm did not work as well as expected out of the box.\n",
    "Because of this, I decided to investigate if it could be a problem with the string distance threshold.\n",
    "To do so, I manually labeled a bit less than a hundred html pages with the number of data records in them.\n",
    "A page in a market place website would have as many records as products on that page.\n",
    "For instance, see [this page](https://www.circuitcity.com/products/health-personal-care-beauty.html): it has 12 records.\n",
    "Note that, if the algorithm finds, in this case, 12 data records, it does not necessarily means that it worked.\n",
    "The results might be a completely different part of the HTML page that does not have any value.\n",
    "However, if it does not have 12 records in the results (or, say, 'almost'), it probably did not find the correct records.\n",
    "This is reasonable to suppose because the data records, according to the algorithm's assumptions, are usually adjacent.\n",
    "Therefore, finding the correct region should entail finding the other ones as well.\n",
    "An exception might occur when there is a disconnected data record - see section 3.4 Data Records not in Data Regions in [?] for further detail.\n",
    "Fortunately this case will not have a big importance here.\n",
    "Finally, this 'soft' labelling can be used as an useful way to evaluate if the algorithm is working properly.\n",
    "Besides, it is laborious to inspect raw HTMLs to figure out rather the data records are correct or not.\n",
    "Hence, this is also useful to filter out the results and inspect only good candidates more closely.\n",
    "\n",
    "### List-related HTML tags\n",
    "\n",
    "The authors are not very precise in the paper about which HTML tags are considered as candidates for data records or not.\n",
    "They say that they considered table-related tags. However, I found that this is too restrictive and did not find much.\n",
    "This might be because table tags were more widely used back in the time that the algorithm was developed.\n",
    "Because of that, I decided to also consider list-related HTML tags and compare the results.\n",
    "\n",
    "### Node name attribute\n",
    "\n",
    "While revising and cleaning up the code, I noticed that my implementation might have introduced a bug.\n",
    "The problem is: to uniquely identify all the nodes in the HTML tree, I added an attribute to the lxml objects' attributes;\n",
    "it is like any other HTML attribute and, therefore, is included when the object is serialized;\n",
    "then, the string distance between two nodes is distorted.\n",
    "I decided to investigate if this factor could be causing the issues by rerunning the tests with a fix.\n",
    "For simplicity reasons, I did not properly correct the entire implementation.\n",
    "Instead, at the moment of the serialization, I create a (deep) copy of the object, strip the node name attributes, and use it for computing the string distance.\n",
    "Notice that this fix might slow down the implementation as the operations mentioned are executed a lot.\n",
    "\n",
    "## In this notebook\n",
    "\n",
    "This notebook evaluates the results of the following variation:\n",
    "- List elements: **yes**\n",
    "- Node names cleanup: **yes**\n"
   ]
  },
  {
   "cell_type": "code",
   "execution_count": 22,
   "metadata": {},
   "outputs": [],
   "source": [
    "import pathlib\n",
    "%reload_ext autoreload\n",
    "%autoreload 2\n",
    "\n",
    "\n",
    "import random\n",
    "import numpy as np\n",
    "from matplotlib import pyplot as plt\n",
    "from copy import deepcopy\n",
    "import typing as t\n",
    "\n",
    "\n",
    "import core\n",
    "import files_management as fm\n",
    "import prepostprocessing as ppp\n",
    "import utils\n",
    "\n",
    "MAX_TAGS_PER_GNODE = 10"
   ]
  },
  {
   "cell_type": "markdown",
   "source": [
    "First, load all the runs (all threshold x all pages)."
   ],
   "metadata": {
    "collapsed": false,
    "pycharm": {
     "name": "#%% md\n"
    }
   }
  },
  {
   "cell_type": "code",
   "execution_count": 23,
   "metadata": {
    "pycharm": {
     "name": "#%%\n"
    }
   },
   "outputs": [
    {
     "name": "stdout",
     "output_type": "stream",
     "text": [
      "There are 94 pages in total.\n",
      "There are 46 thresholds.\n",
      "There are 86 processed pages.\n"
     ]
    }
   ],
   "source": [
    "all_page_metas = fm.PageMeta.get_all()\n",
    "print(\"There are {:d} pages in total.\".format(len(all_page_metas)))\n",
    "\n",
    "thresholds: t.List[float] = [th / 100 for th in range(5, 50 + 1)]\n",
    "thresholds_strs = {th: \"{:.2f}\".format(th) for th in thresholds}\n",
    "th_strs = [thresholds_strs[th] for th in thresholds]\n",
    "thresholds_objs: t.Dict[float, core.MDREditDistanceThresholds] = {\n",
    "    th: core.MDREditDistanceThresholds.all_equal(th) for th in thresholds\n",
    "}\n",
    "print(\"There are {:d} thresholds.\".format(len(thresholds)))\n",
    "\n",
    "all_page_metas: t.Dict[str, fm.PageMeta] = {\n",
    "    k: v for k, v in all_page_metas.items() \n",
    "    if all(v.data_records_pkl(th, MAX_TAGS_PER_GNODE).exists() for th in thresholds_objs.values())\n",
    "}\n",
    "print(\"There are {:d} processed pages.\".format(len(all_page_metas)))"
   ]
  },
  {
   "cell_type": "code",
   "execution_count": 24,
   "metadata": {
    "pycharm": {
     "name": "#%%\n"
    }
   },
   "outputs": [
    {
     "name": "stdout",
     "output_type": "stream",
     "text": [
      "There are 3956 runs of data regions.\n"
     ]
    }
   ],
   "source": [
    "drs_by_run: t.Dict[t.Tuple[fm.PageMeta, float], t.Set[core.DataRegion]] = {\n",
    "    (pmid, th): pm.load_precomputed_data_regions(th, MAX_TAGS_PER_GNODE)\n",
    "    for th in thresholds\n",
    "    for pmid, pm in all_page_metas.items()\n",
    "}\n",
    "print(\"There are {:d} runs of data regions.\".format(len(drs_by_run)))\n"
   ]
  },
  {
   "cell_type": "code",
   "execution_count": 25,
   "metadata": {
    "pycharm": {
     "name": "#%%\n"
    }
   },
   "outputs": [
    {
     "name": "stdout",
     "output_type": "stream",
     "text": [
      "There are 3956 runs.\n"
     ]
    }
   ],
   "source": [
    "drecs_by_run: t.Dict[t.Tuple[str, float], t.Set[core.DataRecord]] = {\n",
    "    (pmid, th): pm.load_precomputed_data_records(thresholds_objs[th], MAX_TAGS_PER_GNODE)\n",
    "    for th in thresholds\n",
    "    for pmid, pm in all_page_metas.items()\n",
    "}\n",
    "print(\"There are {:d} runs.\".format(len(drecs_by_run)))"
   ]
  },
  {
   "cell_type": "markdown",
   "source": [
    "Find all the websites in the results."
   ],
   "metadata": {
    "collapsed": false,
    "pycharm": {
     "name": "#%% md\n"
    }
   }
  },
  {
   "cell_type": "code",
   "execution_count": 26,
   "metadata": {
    "pycharm": {
     "name": "#%%\n"
    }
   },
   "outputs": [],
   "source": [
    "def get_website(url: str) -> str:\n",
    "    website = url.split(\"//\")[1].split(\".com\")[0]\n",
    "    website = website if \"www.\" not in website else website.split(\"www.\")[1]\n",
    "    return website\n",
    "\n",
    "websites = {get_website(pm.url) for pm in all_page_metas.values()}"
   ]
  },
  {
   "cell_type": "markdown",
   "source": [
    "Put the results in a `pandas.DataFrame`."
   ],
   "metadata": {
    "collapsed": false,
    "pycharm": {
     "name": "#%% md\n"
    }
   }
  },
  {
   "cell_type": "code",
   "execution_count": 27,
   "metadata": {
    "pycharm": {
     "name": "#%%\n"
    }
   },
   "outputs": [],
   "source": [
    "import pandas as pd\n",
    "\n",
    "# pmid = page meta id, gd = ground truth\n",
    "df = pd.DataFrame(\n",
    "    columns=[\"pmid\", \"website\", \"gd\"] + [thresholds_strs[th] for th in thresholds],\n",
    "    data=[\n",
    "        [\n",
    "            pmid, get_website(pm.url), pm.n_data_records\n",
    "        ] + [\n",
    "            len(drecs_by_run[(pmid, th)]) for th in thresholds\n",
    "        ] \n",
    "        for pmid, pm in all_page_metas.items()\n",
    "    ]\n",
    ")"
   ]
  },
  {
   "cell_type": "code",
   "execution_count": 28,
   "metadata": {
    "pycharm": {
     "name": "#%%\n"
    }
   },
   "outputs": [],
   "source": [
    "def get_data_points_within_margin(pm: fm.PageMeta, size=5) -> t.Tuple[np.array, np.array, np.array]:\n",
    "    \"\"\" \n",
    "    This is used to find threshold parameters such that the number of data records found stays inside a margin\n",
    "    of +/- size for a given page.\n",
    "     \n",
    "    Returns: \n",
    "        (thresholds, nb_drecs, relative_nb_drecs): relative to the ground truth\n",
    "    \"\"\"\n",
    "    pmrow = df[df.pmid == pm.page_id].iloc[0]\n",
    "    vals = pmrow[th_strs].values\n",
    "    low = pmrow.gd - size\n",
    "    up = pmrow.gd + size\n",
    "    withing = (vals >= low) & (vals <= up)\n",
    "    ths = np.array(th_strs)\n",
    "    nb_drecs = pmrow[ths[withing]].values\n",
    "    ths = np.array(thresholds)[withing]\n",
    "    return ths, nb_drecs, nb_drecs - pmrow.gd\n"
   ]
  },
  {
   "cell_type": "code",
   "execution_count": 29,
   "metadata": {
    "pycharm": {
     "name": "#%%\n"
    }
   },
   "outputs": [
    {
     "data": {
      "text/plain": "          pmid            website  gd  0.05  0.06  0.07  0.08  0.09  0.10  \\\n0  0d6-30e-a27  nothingbutsavings  24   -18   -14    -5     1     1     9   \n1  185-0cc-e49        circuitcity  12   -12   -12   -10   -10   -10   -10   \n\n   0.11  ...  0.41  0.42  0.43  0.44  0.45  0.46  0.47  0.48  0.49  0.50  \n0    13  ...    46    46    46    46    46    48    48    48    45    49  \n1   -10  ...    46    47    47    49    50    50    53    53    56    56  \n\n[2 rows x 49 columns]",
      "text/html": "<div>\n<style scoped>\n    .dataframe tbody tr th:only-of-type {\n        vertical-align: middle;\n    }\n\n    .dataframe tbody tr th {\n        vertical-align: top;\n    }\n\n    .dataframe thead th {\n        text-align: right;\n    }\n</style>\n<table border=\"1\" class=\"dataframe\">\n  <thead>\n    <tr style=\"text-align: right;\">\n      <th></th>\n      <th>pmid</th>\n      <th>website</th>\n      <th>gd</th>\n      <th>0.05</th>\n      <th>0.06</th>\n      <th>0.07</th>\n      <th>0.08</th>\n      <th>0.09</th>\n      <th>0.10</th>\n      <th>0.11</th>\n      <th>...</th>\n      <th>0.41</th>\n      <th>0.42</th>\n      <th>0.43</th>\n      <th>0.44</th>\n      <th>0.45</th>\n      <th>0.46</th>\n      <th>0.47</th>\n      <th>0.48</th>\n      <th>0.49</th>\n      <th>0.50</th>\n    </tr>\n  </thead>\n  <tbody>\n    <tr>\n      <th>0</th>\n      <td>0d6-30e-a27</td>\n      <td>nothingbutsavings</td>\n      <td>24</td>\n      <td>-18</td>\n      <td>-14</td>\n      <td>-5</td>\n      <td>1</td>\n      <td>1</td>\n      <td>9</td>\n      <td>13</td>\n      <td>...</td>\n      <td>46</td>\n      <td>46</td>\n      <td>46</td>\n      <td>46</td>\n      <td>46</td>\n      <td>48</td>\n      <td>48</td>\n      <td>48</td>\n      <td>45</td>\n      <td>49</td>\n    </tr>\n    <tr>\n      <th>1</th>\n      <td>185-0cc-e49</td>\n      <td>circuitcity</td>\n      <td>12</td>\n      <td>-12</td>\n      <td>-12</td>\n      <td>-10</td>\n      <td>-10</td>\n      <td>-10</td>\n      <td>-10</td>\n      <td>-10</td>\n      <td>...</td>\n      <td>46</td>\n      <td>47</td>\n      <td>47</td>\n      <td>49</td>\n      <td>50</td>\n      <td>50</td>\n      <td>53</td>\n      <td>53</td>\n      <td>56</td>\n      <td>56</td>\n    </tr>\n  </tbody>\n</table>\n<p>2 rows × 49 columns</p>\n</div>"
     },
     "execution_count": 29,
     "metadata": {},
     "output_type": "execute_result"
    }
   ],
   "source": [
    "# get a DataFrame with the relative number of data records (relative to the ground truth).\n",
    "\n",
    "df_diff = deepcopy(df)\n",
    "df_diff[df_diff.columns[3:]] = df_diff[th_strs].values - df_diff.gd.values.reshape(-1, 1)\n",
    "df_diff.head(2)"
   ]
  },
  {
   "cell_type": "markdown",
   "metadata": {
    "pycharm": {
     "name": "#%% md\n"
    }
   },
   "source": [
    "The following methods are used to visualize the results."
   ]
  },
  {
   "cell_type": "code",
   "execution_count": 45,
   "metadata": {
    "pycharm": {
     "name": "#%%\n"
    }
   },
   "outputs": [
    {
     "name": "stderr",
     "output_type": "stream",
     "text": [
      "[files_management.py:80 -             <module>()] Outputs parent dir: /home/joaopcbertoldo/repos/pymdr\n",
      "[files_management.py:90 -             <module>()] Outputs dir: /home/joaopcbertoldo/repos/pymdr/outputs\n",
      "[files_management.py:80 -             <module>()] Outputs parent dir: /home/joaopcbertoldo/repos/pymdr\n",
      "[files_management.py:90 -             <module>()] Outputs dir: /home/joaopcbertoldo/repos/pymdr/outputs\n"
     ]
    }
   ],
   "source": [
    "noises = np.random.uniform(-1, 1, len(thresholds))\n",
    "\n",
    "\n",
    "def viz_page_results(pm: fm.PageMeta, figsize=None):\n",
    "    \"\"\"\n",
    "    Plot the number of data records of all the thresholds of a single page.\n",
    "    Number of data records on the y-axis.\n",
    "\n",
    "    Args:\n",
    "        pm:\n",
    "        figsize:\n",
    "\n",
    "    Returns:\n",
    "\n",
    "    \"\"\"\n",
    "    row = df[df.pmid == pm.page_id].iloc[0]\n",
    "    \n",
    "    fig = plt.figure(figsize=figsize or (5, 5), dpi=120)\n",
    "    ax = fig.gca()\n",
    "    xs, ys = noises, np.array([row.get(th) for th in thresholds_strs.values()])\n",
    "    ax.scatter(0, row.gd)\n",
    "    ax.scatter(xs, ys, marker='x')\n",
    "    ax.set_xlim(-3, 3)\n",
    "    \n",
    "    return fig, ax\n",
    "\n",
    "\n",
    "def viz_page_th_res_curve(pm: fm.PageMeta, diff=False, figsize=None, fig=None, ax=None, sz=10):\n",
    "    \"\"\"\n",
    "    Plot the number of data records of all the thresholds of a single page.\n",
    "    Thresholds (x-axis) x Number of records (y-axis).\n",
    "\n",
    "    Args:\n",
    "        pm:\n",
    "        diff:\n",
    "        figsize:\n",
    "        fig:\n",
    "        ax:\n",
    "        sz:\n",
    "\n",
    "    Returns:\n",
    "\n",
    "    \"\"\"\n",
    "    \n",
    "    data_frame = df if not diff else df_diff\n",
    "    row = data_frame[data_frame.pmid == pm.page_id].iloc[0]\n",
    "    gd = row.gd if not diff else 0\n",
    "    \n",
    "    figsize = figsize or (sz, sz)\n",
    "    fig = fig or plt.figure(figsize=figsize, dpi=120)\n",
    "    ax = ax or fig.gca()\n",
    "    ys = np.array([row.get(th) for th in thresholds_strs.values()])\n",
    "    ax.scatter(thresholds, ys)\n",
    "    ax.hlines([gd], min(thresholds), max(thresholds))\n",
    "    \n",
    "    return fig, ax\n",
    "\n",
    "\n",
    "def viz_ths_in_margin(pm: fm.PageMeta, y_val, margin, figsize=None, fig=None, ax=None):\n",
    "    \"\"\"\n",
    "    Plot the range of thresholds within a margin of error on the x-axis.\n",
    "\n",
    "    Args:\n",
    "        pm:\n",
    "        y_val:\n",
    "        margin:\n",
    "        figsize:\n",
    "        fig:\n",
    "        ax:\n",
    "\n",
    "    Returns:\n",
    "\n",
    "    \"\"\"\n",
    "    xs, _, _ = get_data_points_within_margin(pm, margin)\n",
    "    \n",
    "    figsize = figsize or (10, 10)\n",
    "    fig = fig or plt.figure(figsize=figsize, dpi=120)\n",
    "    ax = ax or fig.gca()\n",
    "    \n",
    "    ax.scatter(xs, [y_val for _ in range(len(xs))])\n",
    "    \n",
    "    return fig, ax"
   ]
  },
  {
   "cell_type": "code",
   "execution_count": 46,
   "metadata": {
    "pycharm": {
     "name": "#%%\n"
    }
   },
   "outputs": [],
   "source": [
    "a_pmid = list(all_page_metas.keys())[random.randint(0, len(all_page_metas) - 1)]\n",
    "a_pm = all_page_metas[a_pmid]"
   ]
  },
  {
   "cell_type": "markdown",
   "source": [
    "Test all the methods above on a single example."
   ],
   "metadata": {
    "collapsed": false,
    "pycharm": {
     "name": "#%% md\n"
    }
   }
  },
  {
   "cell_type": "code",
   "execution_count": 48,
   "metadata": {
    "pycharm": {
     "name": "#%%\n"
    },
    "scrolled": false
   },
   "outputs": [
    {
     "data": {
      "text/plain": "(<Figure size 480x480 with 1 Axes>,\n <matplotlib.axes._subplots.AxesSubplot at 0x7f41a5523d30>)"
     },
     "execution_count": 48,
     "metadata": {},
     "output_type": "execute_result"
    },
    {
     "data": {
      "text/plain": "<Figure size 480x480 with 1 Axes>",
      "image/png": "[encoded data removed]"
     },
     "metadata": {
      "needs_background": "light"
     },
     "output_type": "display_data"
    },
    {
     "data": {
      "text/plain": "<Figure size 1080x240 with 1 Axes>",
      "image/png": "[encoded data removed]"
     },
     "metadata": {
      "needs_background": "light"
     },
     "output_type": "display_data"
    },
    {
     "data": {
      "text/plain": "<Figure size 480x480 with 1 Axes>",
      "image/png": "[encoded data removed]"
     },
     "metadata": {
      "needs_background": "light"
     },
     "output_type": "display_data"
    }
   ],
   "source": [
    "viz_page_results(a_pm, figsize=(4, 4))\n",
    "viz_page_th_res_curve(a_pm, diff=True, figsize=(9, 2))\n",
    "viz_ths_in_margin(a_pm, 0, 5, figsize=(4, 4))"
   ]
  },
  {
   "cell_type": "markdown",
   "source": [
    "Plot all the margins of all pages. Each line is a page and each dot is a threshold run that stayed within the margin.\n",
    "The x-axis' value of the points are the threshold values."
   ],
   "metadata": {
    "collapsed": false,
    "pycharm": {
     "name": "#%% md\n"
    }
   }
  },
  {
   "cell_type": "code",
   "execution_count": 44,
   "metadata": {
    "pycharm": {
     "name": "#%%\n"
    }
   },
   "outputs": [
    {
     "data": {
      "text/plain": "<Figure size 720x720 with 1 Axes>",
      "image/png": "[encoded data removed]"
     },
     "metadata": {
      "needs_background": "light"
     },
     "output_type": "display_data"
    }
   ],
   "source": [
    "fig = plt.figure(figsize=(10, 10))\n",
    "ax = plt.gca()\n",
    "for idx, pm in enumerate(all_page_metas.values()):\n",
    "    viz_ths_in_margin(pm, idx, 5, fig=fig, ax=ax)"
   ]
  },
  {
   "cell_type": "markdown",
   "source": [
    "The following methods get the `upto` best (closest to the ground truth) cases within the margin of +/- `maxerr`."
   ],
   "metadata": {
    "collapsed": false,
    "pycharm": {
     "name": "#%% md\n"
    }
   }
  },
  {
   "cell_type": "code",
   "execution_count": 34,
   "metadata": {
    "pycharm": {
     "name": "#%%\n"
    }
   },
   "outputs": [],
   "source": [
    "def get_closest_ths(pm: fm.PageMeta, upto: int, maxerr=5) -> t.Tuple[np.array, np.array, np.array]:\n",
    "    \"\"\" ths, n_drecs, diffs \"\"\"\n",
    "    ths, n_drecs, diffs = get_data_points_within_margin(pm, maxerr)\n",
    "    accepted = [x for x in sorted(zip(ths, n_drecs, abs(diffs)), key=lambda x: x[1])][:upto]\n",
    "    return tuple(zip(*accepted)) if accepted else (np.array([]), np.array([]), np.array([]))\n",
    "\n",
    "\n",
    "def viz_closest_ths(pm: fm.PageMeta, y_val, upto, maxerr=5, figsize=None, fig=None, ax=None):\n",
    "    xs, _, _ = get_closest_ths(pm, upto, maxerr)\n",
    "    figsize = figsize or (10, 10)\n",
    "    fig = fig or plt.figure(figsize=figsize, dpi=120)\n",
    "    ax = ax or fig.gca()\n",
    "    ax.scatter(xs, [y_val for _ in range(len(xs))])\n",
    "    return fig, ax"
   ]
  },
  {
   "cell_type": "markdown",
   "source": [
    "The following cells will get the best runs within a tight margin to figure out reasonable candidates for inspection.\n",
    "Then it prints a list of pages that might be worth checking."
   ],
   "metadata": {
    "collapsed": false,
    "pycharm": {
     "name": "#%% md\n"
    }
   }
  },
  {
   "cell_type": "code",
   "execution_count": 35,
   "metadata": {
    "pycharm": {
     "name": "#%%\n"
    }
   },
   "outputs": [
    {
     "name": "stdout",
     "output_type": "stream",
     "text": [
      "86 19\n"
     ]
    }
   ],
   "source": [
    "best_ones = {\n",
    "    pmid: (th, drecs_by_run[(pm.page_id, th)]) \n",
    "    for pmid, pm in all_page_metas.items()\n",
    "    for th, _, _ in zip(*get_closest_ths(pm, 1, 0))\n",
    "}\n",
    "print(len(all_page_metas), len(best_ones))"
   ]
  },
  {
   "cell_type": "code",
   "execution_count": 36,
   "metadata": {
    "pycharm": {
     "name": "#%%\n"
    }
   },
   "outputs": [],
   "source": [
    "a_best_pmid = list(best_ones.keys())[random.randint(0, len(best_ones) - 1)]\n",
    "a_best_pm = all_page_metas[a_best_pmid]"
   ]
  },
  {
   "cell_type": "code",
   "execution_count": 37,
   "metadata": {
    "pycharm": {
     "name": "#%%\n"
    }
   },
   "outputs": [],
   "source": [
    "a_best_th, a_best_drecs = best_ones[a_best_pmid]\n",
    "a_best_drs = a_best_pm.load_precomputed_data_regions(a_best_th, 10)\n",
    "a_best_doc = a_best_pm.get_named_nodes_html_tree()"
   ]
  },
  {
   "cell_type": "code",
   "execution_count": 39,
   "metadata": {},
   "outputs": [],
   "source": [
    "data_records_nodes = core.get_data_records_as_nodes(a_best_doc, a_best_drecs)"
   ]
  },
  {
   "cell_type": "code",
   "execution_count": 40,
   "metadata": {
    "pycharm": {
     "name": "#%%\n"
    }
   },
   "outputs": [
    {
     "name": "stdout",
     "output_type": "stream",
     "text": [
      "/home/joaopcbertoldo/repos/pymdr/outputs/results/2020-03-23-2303---bf7-747-a31-colored.html\n"
     ]
    }
   ],
   "source": [
    "core.paint_data_records(data_records_nodes)\n",
    "fm.PageMeta.persist_html(a_best_pm.colored_html, a_best_doc)\n",
    "print(str(a_best_pm.colored_html))"
   ]
  },
  {
   "cell_type": "code",
   "execution_count": 41,
   "metadata": {},
   "outputs": [],
   "source": [
    "for a_best_pmid in list(best_ones.keys()):\n",
    "    try:\n",
    "        a_best_pm = all_page_metas[a_best_pmid]\n",
    "        a_best_th, a_best_drecs = best_ones[a_best_pmid]\n",
    "        a_best_drs = a_best_pm.load_precomputed_data_regions(a_best_th, 10)\n",
    "        a_best_doc = a_best_pm.get_named_nodes_html_tree()\n",
    "        data_records_nodes = core.get_data_records_as_nodes(a_best_doc, a_best_drecs)\n",
    "        if any(len(drec) == 0 for drec in data_records_nodes):\n",
    "            print(a_best_pmid)\n",
    "    except Exception as ex:\n",
    "        import traceback\n",
    "        print(ex)\n",
    "        print(a_best_pmid)\n",
    "        traceback.print_stack()\n"
   ]
  },
  {
   "cell_type": "code",
   "execution_count": 42,
   "metadata": {
    "scrolled": false
   },
   "outputs": [
    {
     "name": "stdout",
     "output_type": "stream",
     "text": [
      "12\n",
      "https://www.toysrus.com/shop-by-category/games-and-puzzles/puzzles/\n",
      "/home/joaopcbertoldo/repos/pymdr/outputs/raw_htmls/2020-03-24-0014---23e-d57-219-raw.html\n",
      "/home/joaopcbertoldo/repos/pymdr/outputs/results/2020-03-24-0014---23e-d57-219-colored.html\n",
      "\n",
      "7\n",
      "https://www.radioshack.com/collections/robotics\n",
      "/home/joaopcbertoldo/repos/pymdr/outputs/raw_htmls/2020-03-24-0106---320-3a7-e62-raw.html\n",
      "/home/joaopcbertoldo/repos/pymdr/outputs/results/2020-03-24-0106---320-3a7-e62-colored.html\n",
      "\n",
      "28\n",
      "https://www.barnesandnoble.com/b/coming-soon/books/_/N-1oyfZ29Z8q8\n",
      "/home/joaopcbertoldo/repos/pymdr/outputs/raw_htmls/2020-03-23-2300---347-344-928-raw.html\n",
      "/home/joaopcbertoldo/repos/pymdr/outputs/results/2020-03-23-2300---347-344-928-colored.html\n",
      "\n",
      "10\n",
      "http://www.ubid.com/\n",
      "/home/joaopcbertoldo/repos/pymdr/outputs/raw_htmls/2020-03-24-0038---4c2-e2f-0f8-raw.html\n",
      "/home/joaopcbertoldo/repos/pymdr/outputs/results/2020-03-24-0038---4c2-e2f-0f8-colored.html\n",
      "\n",
      "11\n",
      "https://www.toysrus.com/toy-trends/storytime_reading_trend.html\n",
      "/home/joaopcbertoldo/repos/pymdr/outputs/raw_htmls/2020-03-24-0016---56c-c41-eb4-raw.html\n",
      "/home/joaopcbertoldo/repos/pymdr/outputs/results/2020-03-24-0016---56c-c41-eb4-colored.html\n",
      "\n",
      "14\n",
      "https://www.dell.com/fr-fr/work/shop/scc/sc/desktops-n-workstations?~ck=mn\n",
      "/home/joaopcbertoldo/repos/pymdr/outputs/raw_htmls/2020-03-24-0114---5fd-6db-95e-raw.html\n",
      "/home/joaopcbertoldo/repos/pymdr/outputs/results/2020-03-24-0114---5fd-6db-95e-colored.html\n",
      "\n",
      "20\n",
      "https://www.footlocker.co.uk/en/men/shoes/running/\n",
      "/home/joaopcbertoldo/repos/pymdr/outputs/raw_htmls/2020-03-24-0109---60a-429-cac-raw.html\n",
      "/home/joaopcbertoldo/repos/pymdr/outputs/results/2020-03-24-0109---60a-429-cac-colored.html\n",
      "\n",
      "20\n",
      "https://www.monster.com/jobs/q-photography-professor-jobs\n",
      "/home/joaopcbertoldo/repos/pymdr/outputs/raw_htmls/2020-03-24-1336---807-66f-c70-raw.html\n",
      "/home/joaopcbertoldo/repos/pymdr/outputs/results/2020-03-24-1336---807-66f-c70-colored.html\n",
      "\n",
      "20\n",
      "https://www.monster.com/jobs/q-coffee-roaster-jobs\n",
      "/home/joaopcbertoldo/repos/pymdr/outputs/raw_htmls/2020-03-24-1338---8a3-373-2fa-raw.html\n",
      "/home/joaopcbertoldo/repos/pymdr/outputs/results/2020-03-24-1338---8a3-373-2fa-colored.html\n",
      "\n",
      "20\n",
      "https://www.monster.com/jobs/q-district-attorney-jobs\n",
      "/home/joaopcbertoldo/repos/pymdr/outputs/raw_htmls/2020-03-24-1338---975-f68-328-raw.html\n",
      "/home/joaopcbertoldo/repos/pymdr/outputs/results/2020-03-24-1338---975-f68-328-colored.html\n",
      "\n",
      "20\n",
      "https://www.monster.com/jobs/q-high-school-history-teacher-jobs\n",
      "/home/joaopcbertoldo/repos/pymdr/outputs/raw_htmls/2020-03-24-1336---9ed-f15-daf-raw.html\n",
      "/home/joaopcbertoldo/repos/pymdr/outputs/results/2020-03-24-1336---9ed-f15-daf-colored.html\n",
      "\n",
      "20\n",
      "https://www.footlocker.co.uk/en/all/clothing/jordan\n",
      "/home/joaopcbertoldo/repos/pymdr/outputs/raw_htmls/2020-03-24-0108---a19-f72-01c-raw.html\n",
      "/home/joaopcbertoldo/repos/pymdr/outputs/results/2020-03-24-0108---a19-f72-01c-colored.html\n",
      "\n",
      "20\n",
      "https://www.footlocker.co.uk/en/all/shoes/basketball/jordan\n",
      "/home/joaopcbertoldo/repos/pymdr/outputs/raw_htmls/2020-03-24-0109---a24-07e-e3c-raw.html\n",
      "/home/joaopcbertoldo/repos/pymdr/outputs/results/2020-03-24-0109---a24-07e-e3c-colored.html\n",
      "\n",
      "12\n",
      "https://www.toysrus.com/shop-by-category/learning/preschool-learning-and-development-toys/vtech/\n",
      "/home/joaopcbertoldo/repos/pymdr/outputs/raw_htmls/2020-03-24-0015---ab5-17d-474-raw.html\n",
      "/home/joaopcbertoldo/repos/pymdr/outputs/results/2020-03-24-0015---ab5-17d-474-colored.html\n",
      "\n",
      "8\n",
      "https://www.toysrus.com/toy-trends/barbie_trend.html\n",
      "/home/joaopcbertoldo/repos/pymdr/outputs/raw_htmls/2020-03-24-0016---b91-9da-445-raw.html\n",
      "/home/joaopcbertoldo/repos/pymdr/outputs/results/2020-03-24-0016---b91-9da-445-colored.html\n",
      "\n",
      "10\n",
      "http://www.ubid.com/category/computer-electronics-ubid\n",
      "/home/joaopcbertoldo/repos/pymdr/outputs/raw_htmls/2020-03-24-0040---bbb-a4c-da4-raw.html\n",
      "/home/joaopcbertoldo/repos/pymdr/outputs/results/2020-03-24-0040---bbb-a4c-da4-colored.html\n",
      "\n",
      "48\n",
      "https://www.ebay.com/b/Rifle-Parts/73949/bn_1865487\n",
      "/home/joaopcbertoldo/repos/pymdr/outputs/raw_htmls/2020-03-23-2303---bf7-747-a31-raw.html\n",
      "/home/joaopcbertoldo/repos/pymdr/outputs/results/2020-03-23-2303---bf7-747-a31-colored.html\n",
      "\n",
      "24\n",
      "https://www.barnesandnoble.com/b/the-new-york-times-bestsellers/_/N-1p3n\n",
      "/home/joaopcbertoldo/repos/pymdr/outputs/raw_htmls/2020-03-23-2300---c62-963-bfa-raw.html\n",
      "/home/joaopcbertoldo/repos/pymdr/outputs/results/2020-03-23-2300---c62-963-bfa-colored.html\n",
      "\n",
      "12\n",
      "https://www.toysrus.com/shop-by-category/games-and-puzzles/board-games/\n",
      "/home/joaopcbertoldo/repos/pymdr/outputs/raw_htmls/2020-03-24-0014---ee7-c8c-156-raw.html\n",
      "/home/joaopcbertoldo/repos/pymdr/outputs/results/2020-03-24-0014---ee7-c8c-156-colored.html\n",
      "\n"
     ]
    }
   ],
   "source": [
    "for a_best_pmid in list(best_ones.keys()):\n",
    "    try:\n",
    "        a_best_pm = all_page_metas[a_best_pmid]\n",
    "        a_best_th, a_best_drecs = best_ones[a_best_pmid]\n",
    "        a_best_drs = a_best_pm.load_precomputed_data_regions(a_best_th, 10)\n",
    "        a_best_doc = a_best_pm.get_named_nodes_html_tree()\n",
    "        data_records_nodes = core.get_data_records_as_nodes(a_best_doc, a_best_drecs)\n",
    "        core.paint_data_records(data_records_nodes)\n",
    "        fm.PageMeta.persist_html(a_best_pm.colored_html, a_best_doc)\n",
    "        \n",
    "        print(a_best_pm.n_data_records)\n",
    "        print(a_best_pm.url)\n",
    "        print(str(a_best_pm.raw_html))\n",
    "        print(str(a_best_pm.colored_html))\n",
    "        print(\"\")\n",
    "    \n",
    "    except Exception as ex:\n",
    "        import traceback\n",
    "        print(ex)\n",
    "        print(a_best_pmid)\n",
    "        traceback.print_stack()\n",
    "    "
   ]
  }
 ],
 "metadata": {
  "kernelspec": {
   "display_name": "Python 3",
   "language": "python",
   "name": "python3"
  },
  "language_info": {
   "codemirror_mode": {
    "name": "ipython",
    "version": 3
   },
   "file_extension": ".py",
   "mimetype": "text/x-python",
   "name": "python",
   "nbconvert_exporter": "python",
   "pygments_lexer": "ipython3",
   "version": "3.6.9"
  }
 },
 "nbformat": 4,
 "nbformat_minor": 1
}