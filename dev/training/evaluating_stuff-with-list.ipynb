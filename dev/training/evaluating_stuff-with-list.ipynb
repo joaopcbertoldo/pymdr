{
 "cells": [
  {
   "cell_type": "markdown",
   "metadata": {},
   "source": [
    "# With lists\n",
    "\n",
    "Since the algorithm did not work as well as expected out of the box."
   ]
  },
  {
   "cell_type": "code",
   "execution_count": 1,
   "metadata": {
    "pycharm": {
     "is_executing": false
    }
   },
   "outputs": [
    {
     "name": "stderr",
     "output_type": "stream",
     "text": [
      "[files_management.py:81 -             <module>()] Outputs parent dir: /home/joaopcbertoldo/repos/pymdr\n",
      "[files_management.py:91 -             <module>()] Outputs dir: /home/joaopcbertoldo/repos/pymdr/outputs\n"
     ]
    }
   ],
   "source": [
    "import pathlib\n",
    "%reload_ext autoreload\n",
    "%autoreload 2\n",
    "\n",
    "\n",
    "import random\n",
    "import numpy as np\n",
    "from matplotlib import pyplot as plt\n",
    "from copy import deepcopy\n",
    "import typing as t\n",
    "\n",
    "\n",
    "import core\n",
    "import files_management as fm\n",
    "import prepostprocessing as ppp\n",
    "import utils\n",
    "\n",
    "MAX_TAGS_PER_GNODE = 10"
   ]
  },
  {
   "cell_type": "code",
   "execution_count": 2,
   "metadata": {
    "pycharm": {
     "is_executing": false,
     "name": "#%%\n"
    }
   },
   "outputs": [
    {
     "name": "stdout",
     "output_type": "stream",
     "text": [
      "There are 94 pages in total.\n",
      "There are 46 thresholds.\n",
      "There are 86 processed pages.\n"
     ]
    }
   ],
   "source": [
    "all_page_metas = fm.PageMeta.get_all()\n",
    "print(\"There are {:d} pages in total.\".format(len(all_page_metas)))\n",
    "\n",
    "thresholds: t.List[float] = [th / 100 for th in range(5, 50 + 1)]\n",
    "thresholds_strs = {th: \"{:.2f}\".format(th) for th in thresholds}\n",
    "th_strs = [thresholds_strs[th] for th in thresholds]\n",
    "thresholds_objs: t.Dict[float, core.MDREditDistanceThresholds] = {\n",
    "    th: core.MDREditDistanceThresholds.all_equal(th) for th in thresholds\n",
    "}\n",
    "print(\"There are {:d} thresholds.\".format(len(thresholds)))\n",
    "\n",
    "all_page_metas: t.Dict[str, fm.PageMeta] = {\n",
    "    k: v for k, v in all_page_metas.items() \n",
    "    if all(v.data_records_pkl(th, MAX_TAGS_PER_GNODE).exists() for th in thresholds_objs.values())\n",
    "}\n",
    "print(\"There are {:d} processed pages.\".format(len(all_page_metas)))"
   ]
  },
  {
   "cell_type": "code",
   "execution_count": 3,
   "metadata": {
    "pycharm": {
     "is_executing": false,
     "name": "#%%\n"
    }
   },
   "outputs": [
    {
     "name": "stdout",
     "output_type": "stream",
     "text": [
      "There are 3956 runs of data regions.\n"
     ]
    }
   ],
   "source": [
    "drs_by_run: t.Dict[t.Tuple[fm.PageMeta, float], t.Set[core.DataRegion]] = {\n",
    "    (pmid, th): pm.load_precomputed_data_regions(th, MAX_TAGS_PER_GNODE)\n",
    "    for th in thresholds\n",
    "    for pmid, pm in all_page_metas.items()\n",
    "}\n",
    "print(\"There are {:d} runs of data regions.\".format(len(drs_by_run)))\n"
   ]
  },
  {
   "cell_type": "code",
   "execution_count": 4,
   "metadata": {
    "pycharm": {
     "is_executing": false,
     "name": "#%%\n"
    }
   },
   "outputs": [
    {
     "name": "stdout",
     "output_type": "stream",
     "text": [
      "There are 3956 runs.\n"
     ]
    }
   ],
   "source": [
    "drecs_by_run: t.Dict[t.Tuple[str, float], t.Set[core.DataRecord]] = {\n",
    "    (pmid, th): pm.load_precomputed_data_records(thresholds_objs[th], MAX_TAGS_PER_GNODE)\n",
    "    for th in thresholds\n",
    "    for pmid, pm in all_page_metas.items()\n",
    "}\n",
    "print(\"There are {:d} runs.\".format(len(drecs_by_run)))"
   ]
  },
  {
   "cell_type": "code",
   "execution_count": 5,
   "metadata": {
    "pycharm": {
     "is_executing": false,
     "name": "#%%\n"
    }
   },
   "outputs": [],
   "source": [
    "def get_website(url: str) -> str:\n",
    "    website = url.split(\"//\")[1].split(\".com\")[0]\n",
    "    website = website if \"www.\" not in website else website.split(\"www.\")[1]\n",
    "    return website\n",
    "\n",
    "websites = {get_website(pm.url) for pm in all_page_metas.values()}"
   ]
  },
  {
   "cell_type": "code",
   "execution_count": 6,
   "metadata": {
    "pycharm": {
     "is_executing": false,
     "name": "#%%\n"
    }
   },
   "outputs": [],
   "source": [
    "import pandas as pd\n",
    "\n",
    "# pmid = page meta id, gd = ground truth\n",
    "df = pd.DataFrame(\n",
    "    columns=[\"pmid\", \"website\", \"gd\"] + [thresholds_strs[th] for th in thresholds],\n",
    "    data=[\n",
    "        [\n",
    "            pmid, get_website(pm.url), pm.n_data_records\n",
    "        ] + [\n",
    "            len(drecs_by_run[(pmid, th)]) for th in thresholds\n",
    "        ] \n",
    "        for pmid, pm in all_page_metas.items()\n",
    "    ]\n",
    ")"
   ]
  },
  {
   "cell_type": "code",
   "execution_count": 7,
   "metadata": {
    "pycharm": {
     "is_executing": false,
     "name": "#%%\n"
    }
   },
   "outputs": [],
   "source": [
    "def get_data_points_within_margin(pm: fm.PageMeta, size=5) -> t.Tuple[np.array, np.array, np.array]:\n",
    "    \"\"\" returns: (thresholds, nb_drecs)\"\"\"\n",
    "    pmrow = df[df.pmid == pm.page_id].iloc[0]\n",
    "    vals = pmrow[th_strs].values\n",
    "    low = pmrow.gd - size\n",
    "    up = pmrow.gd + size\n",
    "    withing = (vals >= low) & (vals <= up)\n",
    "    ths = np.array(th_strs)\n",
    "    nb_drecs = pmrow[ths[withing]].values\n",
    "    ths = np.array(thresholds)[withing]\n",
    "    return ths, nb_drecs, nb_drecs - pmrow.gd\n"
   ]
  },
  {
   "cell_type": "code",
   "execution_count": 8,
   "metadata": {
    "pycharm": {
     "is_executing": false,
     "name": "#%%\n"
    }
   },
   "outputs": [
    {
     "data": {
      "text/html": [
       "<div>\n",
       "<style scoped>\n",
       "    .dataframe tbody tr th:only-of-type {\n",
       "        vertical-align: middle;\n",
       "    }\n",
       "\n",
       "    .dataframe tbody tr th {\n",
       "        vertical-align: top;\n",
       "    }\n",
       "\n",
       "    .dataframe thead th {\n",
       "        text-align: right;\n",
       "    }\n",
       "</style>\n",
       "<table border=\"1\" class=\"dataframe\">\n",
       "  <thead>\n",
       "    <tr style=\"text-align: right;\">\n",
       "      <th></th>\n",
       "      <th>pmid</th>\n",
       "      <th>website</th>\n",
       "      <th>gd</th>\n",
       "      <th>0.05</th>\n",
       "      <th>0.06</th>\n",
       "      <th>0.07</th>\n",
       "      <th>0.08</th>\n",
       "      <th>0.09</th>\n",
       "      <th>0.10</th>\n",
       "      <th>0.11</th>\n",
       "      <th>...</th>\n",
       "      <th>0.41</th>\n",
       "      <th>0.42</th>\n",
       "      <th>0.43</th>\n",
       "      <th>0.44</th>\n",
       "      <th>0.45</th>\n",
       "      <th>0.46</th>\n",
       "      <th>0.47</th>\n",
       "      <th>0.48</th>\n",
       "      <th>0.49</th>\n",
       "      <th>0.50</th>\n",
       "    </tr>\n",
       "  </thead>\n",
       "  <tbody>\n",
       "    <tr>\n",
       "      <th>0</th>\n",
       "      <td>0d6-30e-a27</td>\n",
       "      <td>nothingbutsavings</td>\n",
       "      <td>24</td>\n",
       "      <td>-24</td>\n",
       "      <td>-24</td>\n",
       "      <td>-24</td>\n",
       "      <td>-24</td>\n",
       "      <td>-16</td>\n",
       "      <td>-12</td>\n",
       "      <td>-12</td>\n",
       "      <td>...</td>\n",
       "      <td>38</td>\n",
       "      <td>38</td>\n",
       "      <td>39</td>\n",
       "      <td>38</td>\n",
       "      <td>33</td>\n",
       "      <td>33</td>\n",
       "      <td>33</td>\n",
       "      <td>33</td>\n",
       "      <td>34</td>\n",
       "      <td>38</td>\n",
       "    </tr>\n",
       "    <tr>\n",
       "      <th>1</th>\n",
       "      <td>185-0cc-e49</td>\n",
       "      <td>circuitcity</td>\n",
       "      <td>12</td>\n",
       "      <td>-12</td>\n",
       "      <td>-12</td>\n",
       "      <td>-10</td>\n",
       "      <td>-10</td>\n",
       "      <td>-10</td>\n",
       "      <td>-10</td>\n",
       "      <td>-10</td>\n",
       "      <td>...</td>\n",
       "      <td>44</td>\n",
       "      <td>45</td>\n",
       "      <td>45</td>\n",
       "      <td>45</td>\n",
       "      <td>46</td>\n",
       "      <td>46</td>\n",
       "      <td>48</td>\n",
       "      <td>48</td>\n",
       "      <td>48</td>\n",
       "      <td>48</td>\n",
       "    </tr>\n",
       "  </tbody>\n",
       "</table>\n",
       "<p>2 rows × 49 columns</p>\n",
       "</div>"
      ],
      "text/plain": [
       "          pmid            website  gd  0.05  0.06  0.07  0.08  0.09  0.10  \\\n",
       "0  0d6-30e-a27  nothingbutsavings  24   -24   -24   -24   -24   -16   -12   \n",
       "1  185-0cc-e49        circuitcity  12   -12   -12   -10   -10   -10   -10   \n",
       "\n",
       "   0.11  ...  0.41  0.42  0.43  0.44  0.45  0.46  0.47  0.48  0.49  0.50  \n",
       "0   -12  ...    38    38    39    38    33    33    33    33    34    38  \n",
       "1   -10  ...    44    45    45    45    46    46    48    48    48    48  \n",
       "\n",
       "[2 rows x 49 columns]"
      ]
     },
     "execution_count": 8,
     "metadata": {},
     "output_type": "execute_result"
    }
   ],
   "source": [
    "df_diff = deepcopy(df)\n",
    "df_diff[df_diff.columns[3:]] = df_diff[th_strs].values - df_diff.gd.values.reshape(-1, 1)\n",
    "df_diff.head(2)"
   ]
  },
  {
   "cell_type": "code",
   "execution_count": null,
   "metadata": {
    "pycharm": {
     "is_executing": false,
     "name": "#%%\n"
    }
   },
   "outputs": [],
   "source": []
  },
  {
   "cell_type": "code",
   "execution_count": 9,
   "metadata": {
    "pycharm": {
     "is_executing": false,
     "name": "#%%\n"
    }
   },
   "outputs": [],
   "source": [
    "noises = np.random.uniform(-1, 1, len(thresholds))\n",
    "\n",
    "\n",
    "def viz_page_results(pm: fm.PageMeta, figsize=None):\n",
    "    row = df[df.pmid == pm.page_id].iloc[0]\n",
    "    \n",
    "    fig = plt.figure(figsize=figsize or (5, 5), dpi=120)\n",
    "    ax = fig.gca()\n",
    "    xs, ys = noises, np.array([row.get(th) for th in thresholds_strs.values()])\n",
    "    ax.scatter(0, row.gd)\n",
    "    ax.scatter(xs, ys, marker='x')\n",
    "    ax.set_xlim(-3, 3)\n",
    "    \n",
    "    return fig, ax\n",
    "\n",
    "\n",
    "def viz_page_th_res_curve(pm: fm.PageMeta, diff=False, figsize=None, fig=None, ax=None, sz=10):\n",
    "    \n",
    "    data_frame = df if not diff else df_diff\n",
    "    row = data_frame[data_frame.pmid == pm.page_id].iloc[0]\n",
    "    gd = row.gd if not diff else 0\n",
    "    \n",
    "    figsize = figsize or (sz, sz)\n",
    "    fig = fig or plt.figure(figsize=figsize, dpi=120)\n",
    "    ax = ax or fig.gca()\n",
    "    ys = np.array([row.get(th) for th in thresholds_strs.values()])\n",
    "    ax.scatter(thresholds, ys)\n",
    "    ax.hlines([gd], min(thresholds), max(thresholds))\n",
    "    \n",
    "    return fig, ax\n",
    "\n",
    "\n",
    "def viz_ths_in_margin(pm: fm.PageMeta, y_val, margin, figsize=None, fig=None, ax=None):\n",
    "    \n",
    "    xs, _, _ = get_data_points_within_margin(pm, margin)\n",
    "    \n",
    "    figsize = figsize or (10, 10)\n",
    "    fig = fig or plt.figure(figsize=figsize, dpi=120)\n",
    "    ax = ax or fig.gca()\n",
    "    \n",
    "    ax.scatter(xs, [y_val for _ in range(len(xs))])\n",
    "    \n",
    "    return fig, ax"
   ]
  },
  {
   "cell_type": "code",
   "execution_count": 10,
   "metadata": {
    "pycharm": {
     "is_executing": false,
     "name": "#%%\n"
    }
   },
   "outputs": [],
   "source": [
    "a_pmid = list(all_page_metas.keys())[0]\n",
    "a_pm = all_page_metas[a_pmid]"
   ]
  },
  {
   "cell_type": "code",
   "execution_count": 11,
   "metadata": {
    "pycharm": {
     "is_executing": false,
     "name": "#%%\n"
    },
    "scrolled": false
   },
   "outputs": [
    {
     "data": {
      "text/plain": [
       "(<Figure size 480x480 with 1 Axes>,\n",
       " <matplotlib.axes._subplots.AxesSubplot at 0x7effa97d6c18>)"
      ]
     },
     "execution_count": 11,
     "metadata": {},
     "output_type": "execute_result"
    },
    {
     "data": {
      "image/png": "[encoded data removed]",
      "text/plain": [
       "<Figure size 480x480 with 1 Axes>"
      ]
     },
     "metadata": {
      "needs_background": "light"
     },
     "output_type": "display_data"
    },
    {
     "data": {
      "image/png": "[encoded data removed]",
      "text/plain": [
       "<Figure size 1080x240 with 1 Axes>"
      ]
     },
     "metadata": {
      "needs_background": "light"
     },
     "output_type": "display_data"
    },
    {
     "data": {
      "image/png": "[encoded data removed]",
      "text/plain": [
       "<Figure size 480x480 with 1 Axes>"
      ]
     },
     "metadata": {
      "needs_background": "light"
     },
     "output_type": "display_data"
    }
   ],
   "source": [
    "viz_page_results(a_pm, figsize=(4, 4))\n",
    "viz_page_th_res_curve(a_pm, diff=True, figsize=(9, 2))\n",
    "viz_ths_in_margin(a_pm, 0, 5, figsize=(4, 4))"
   ]
  },
  {
   "cell_type": "code",
   "execution_count": 12,
   "metadata": {
    "pycharm": {
     "is_executing": false,
     "name": "#%%\n"
    }
   },
   "outputs": [
    {
     "data": {
      "image/png": "[encoded data removed]",
      "text/plain": [
       "<Figure size 720x720 with 1 Axes>"
      ]
     },
     "metadata": {
      "needs_background": "light"
     },
     "output_type": "display_data"
    }
   ],
   "source": [
    "fig = plt.figure(figsize=(10, 10))\n",
    "ax = plt.gca()\n",
    "for idx, pm in enumerate(all_page_metas.values()):\n",
    "    viz_ths_in_margin(pm, idx, 5, fig=fig, ax=ax)"
   ]
  },
  {
   "cell_type": "code",
   "execution_count": 13,
   "metadata": {
    "pycharm": {
     "is_executing": false,
     "name": "#%%\n"
    }
   },
   "outputs": [],
   "source": [
    "def get_closest_ths(pm: fm.PageMeta, upto: int, maxerr=5) -> t.Tuple[np.array, np.array, np.array]:\n",
    "    \"\"\" ths, n_drecs, diffs \"\"\"\n",
    "    ths, n_drecs, diffs = get_data_points_within_margin(pm, maxerr)\n",
    "    accepted = [x for x in sorted(zip(ths, n_drecs, abs(diffs)), key=lambda x: x[1])][:upto]\n",
    "    return tuple(zip(*accepted)) if accepted else (np.array([]), np.array([]), np.array([]))\n",
    "\n",
    "\n",
    "def viz_closest_ths(pm: fm.PageMeta, y_val, upto, maxerr=5, figsize=None, fig=None, ax=None):\n",
    "    xs, _, _ = get_closest_ths(pm, upto, maxerr)\n",
    "    figsize = figsize or (10, 10)\n",
    "    fig = fig or plt.figure(figsize=figsize, dpi=120)\n",
    "    ax = ax or fig.gca()\n",
    "    ax.scatter(xs, [y_val for _ in range(len(xs))])\n",
    "    return fig, ax"
   ]
  },
  {
   "cell_type": "code",
   "execution_count": 104,
   "metadata": {
    "pycharm": {
     "is_executing": false,
     "name": "#%%\n"
    }
   },
   "outputs": [
    {
     "name": "stdout",
     "output_type": "stream",
     "text": [
      "86 16\n"
     ]
    }
   ],
   "source": [
    "best_ones = {\n",
    "    pmid: (th, drecs_by_run[(pm.page_id, th)]) \n",
    "    for pmid, pm in all_page_metas.items()\n",
    "    for th, _, _ in zip(*get_closest_ths(pm, 1, 0))\n",
    "}\n",
    "print(len(all_page_metas), len(best_ones))"
   ]
  },
  {
   "cell_type": "code",
   "execution_count": 105,
   "metadata": {
    "pycharm": {
     "is_executing": false,
     "name": "#%%\n"
    }
   },
   "outputs": [],
   "source": [
    "a_best_pmid = list(best_ones.keys())[random.randint(0, len(best_ones) - 1)]\n",
    "a_best_pm = all_page_metas[a_best_pmid]"
   ]
  },
  {
   "cell_type": "code",
   "execution_count": 106,
   "metadata": {
    "pycharm": {
     "is_executing": false,
     "name": "#%%\n"
    }
   },
   "outputs": [],
   "source": [
    "a_best_th, a_best_drecs = best_ones[a_best_pmid]\n",
    "a_best_drs = a_best_pm.load_precomputed_data_regions(a_best_th, 10)\n",
    "a_best_doc = a_best_pm.get_named_nodes_html_tree()"
   ]
  },
  {
   "cell_type": "code",
   "execution_count": 107,
   "metadata": {},
   "outputs": [],
   "source": [
    "# a_best_drecs"
   ]
  },
  {
   "cell_type": "code",
   "execution_count": 108,
   "metadata": {},
   "outputs": [],
   "source": [
    "data_records_nodes = core.get_data_records_as_nodes(a_best_doc, a_best_drecs)"
   ]
  },
  {
   "cell_type": "code",
   "execution_count": 109,
   "metadata": {
    "pycharm": {
     "is_executing": false,
     "name": "#%%\n"
    }
   },
   "outputs": [
    {
     "name": "stdout",
     "output_type": "stream",
     "text": [
      "/home/joaopcbertoldo/repos/pymdr/outputs/results/2020-03-23-2300---c62-963-bfa-colored.html\n"
     ]
    }
   ],
   "source": [
    "core.paint_data_records(data_records_nodes)\n",
    "fm.PageMeta.persist_html(a_best_pm.colored_html, a_best_doc)\n",
    "print(str(a_best_pm.colored_html))"
   ]
  },
  {
   "cell_type": "code",
   "execution_count": 110,
   "metadata": {},
   "outputs": [],
   "source": [
    "for a_best_pmid in list(best_ones.keys()):\n",
    "    try:\n",
    "        a_best_pm = all_page_metas[a_best_pmid]\n",
    "        a_best_th, a_best_drecs = best_ones[a_best_pmid]\n",
    "        a_best_drs = a_best_pm.load_precomputed_data_regions(a_best_th, 10)\n",
    "        a_best_doc = a_best_pm.get_named_nodes_html_tree()\n",
    "        data_records_nodes = core.get_data_records_as_nodes(a_best_doc, a_best_drecs)\n",
    "        if any(len(drec) == 0 for drec in data_records_nodes):\n",
    "            print(a_best_pmid)\n",
    "    except Exception as ex:\n",
    "        import traceback\n",
    "        print(ex)\n",
    "        print(a_best_pmid)\n",
    "        traceback.print_stack()\n"
   ]
  },
  {
   "cell_type": "code",
   "execution_count": 112,
   "metadata": {
    "scrolled": false
   },
   "outputs": [
    {
     "name": "stdout",
     "output_type": "stream",
     "text": [
      "24\n",
      "https://www.nothingbutsavings.com/Category/9-For-the-Home\n",
      "/home/joaopcbertoldo/repos/pymdr/outputs/raw_htmls/2020-03-24-0046---0d6-30e-a27-raw.html\n",
      "/home/joaopcbertoldo/repos/pymdr/outputs/results/2020-03-24-0046---0d6-30e-a27-colored.html\n",
      "\n",
      "12\n",
      "https://www.toysrus.com/shop-by-category/games-and-puzzles/puzzles/\n",
      "/home/joaopcbertoldo/repos/pymdr/outputs/raw_htmls/2020-03-24-0014---23e-d57-219-raw.html\n",
      "/home/joaopcbertoldo/repos/pymdr/outputs/results/2020-03-24-0014---23e-d57-219-colored.html\n",
      "\n",
      "24\n",
      "https://www.nothingbutsavings.com/Category/175-Servers\n",
      "/home/joaopcbertoldo/repos/pymdr/outputs/raw_htmls/2020-03-24-0046---2e0-fe9-53b-raw.html\n",
      "/home/joaopcbertoldo/repos/pymdr/outputs/results/2020-03-24-0046---2e0-fe9-53b-colored.html\n",
      "\n",
      "28\n",
      "https://www.barnesandnoble.com/b/coming-soon/books/_/N-1oyfZ29Z8q8\n",
      "/home/joaopcbertoldo/repos/pymdr/outputs/raw_htmls/2020-03-23-2300---347-344-928-raw.html\n",
      "/home/joaopcbertoldo/repos/pymdr/outputs/results/2020-03-23-2300---347-344-928-colored.html\n",
      "\n",
      "20\n",
      "http://www.ubid.com/category/jewelry-ubid\n",
      "/home/joaopcbertoldo/repos/pymdr/outputs/raw_htmls/2020-03-24-0040---595-d7a-166-raw.html\n",
      "/home/joaopcbertoldo/repos/pymdr/outputs/results/2020-03-24-0040---595-d7a-166-colored.html\n",
      "\n",
      "22\n",
      "https://www.nothingbutsavings.com/Category/191-Desktop-Systems\n",
      "/home/joaopcbertoldo/repos/pymdr/outputs/raw_htmls/2020-03-24-0045---5f6-c90-b1f-raw.html\n",
      "/home/joaopcbertoldo/repos/pymdr/outputs/results/2020-03-24-0045---5f6-c90-b1f-colored.html\n",
      "\n",
      "20\n",
      "https://www.footlocker.co.uk/en/men/shoes/running/\n",
      "/home/joaopcbertoldo/repos/pymdr/outputs/raw_htmls/2020-03-24-0109---60a-429-cac-raw.html\n",
      "/home/joaopcbertoldo/repos/pymdr/outputs/results/2020-03-24-0109---60a-429-cac-colored.html\n",
      "\n",
      "15\n",
      "https://www.tourvacationstogo.com/train_tours.cfm\n",
      "/home/joaopcbertoldo/repos/pymdr/outputs/raw_htmls/2020-03-24-0018---774-862-16c-raw.html\n",
      "/home/joaopcbertoldo/repos/pymdr/outputs/results/2020-03-24-0018---774-862-16c-colored.html\n",
      "\n",
      "20\n",
      "https://www.footlocker.co.uk/en/all/clothing/jordan\n",
      "/home/joaopcbertoldo/repos/pymdr/outputs/raw_htmls/2020-03-24-0108---a19-f72-01c-raw.html\n",
      "/home/joaopcbertoldo/repos/pymdr/outputs/results/2020-03-24-0108---a19-f72-01c-colored.html\n",
      "\n",
      "20\n",
      "https://www.footlocker.co.uk/en/all/shoes/basketball/jordan\n",
      "/home/joaopcbertoldo/repos/pymdr/outputs/raw_htmls/2020-03-24-0109---a24-07e-e3c-raw.html\n",
      "/home/joaopcbertoldo/repos/pymdr/outputs/results/2020-03-24-0109---a24-07e-e3c-colored.html\n",
      "\n",
      "12\n",
      "https://www.toysrus.com/shop-by-category/learning/preschool-learning-and-development-toys/vtech/\n",
      "/home/joaopcbertoldo/repos/pymdr/outputs/raw_htmls/2020-03-24-0015---ab5-17d-474-raw.html\n",
      "/home/joaopcbertoldo/repos/pymdr/outputs/results/2020-03-24-0015---ab5-17d-474-colored.html\n",
      "\n",
      "8\n",
      "https://www.toysrus.com/toy-trends/barbie_trend.html\n",
      "/home/joaopcbertoldo/repos/pymdr/outputs/raw_htmls/2020-03-24-0016---b91-9da-445-raw.html\n",
      "/home/joaopcbertoldo/repos/pymdr/outputs/results/2020-03-24-0016---b91-9da-445-colored.html\n",
      "\n",
      "48\n",
      "https://www.ebay.com/b/Rifle-Parts/73949/bn_1865487\n",
      "/home/joaopcbertoldo/repos/pymdr/outputs/raw_htmls/2020-03-23-2303---bf7-747-a31-raw.html\n",
      "/home/joaopcbertoldo/repos/pymdr/outputs/results/2020-03-23-2303---bf7-747-a31-colored.html\n",
      "\n",
      "24\n",
      "https://www.nothingbutsavings.com/Category/158-LCD-Monitors\n",
      "/home/joaopcbertoldo/repos/pymdr/outputs/raw_htmls/2020-03-24-0046---bfd-859-476-raw.html\n",
      "/home/joaopcbertoldo/repos/pymdr/outputs/results/2020-03-24-0046---bfd-859-476-colored.html\n",
      "\n",
      "24\n",
      "https://www.barnesandnoble.com/b/the-new-york-times-bestsellers/_/N-1p3n\n",
      "/home/joaopcbertoldo/repos/pymdr/outputs/raw_htmls/2020-03-23-2300---c62-963-bfa-raw.html\n",
      "/home/joaopcbertoldo/repos/pymdr/outputs/results/2020-03-23-2300---c62-963-bfa-colored.html\n",
      "\n",
      "12\n",
      "https://www.toysrus.com/shop-by-category/games-and-puzzles/board-games/\n",
      "/home/joaopcbertoldo/repos/pymdr/outputs/raw_htmls/2020-03-24-0014---ee7-c8c-156-raw.html\n",
      "/home/joaopcbertoldo/repos/pymdr/outputs/results/2020-03-24-0014---ee7-c8c-156-colored.html\n",
      "\n"
     ]
    }
   ],
   "source": [
    "for a_best_pmid in list(best_ones.keys()):\n",
    "    try:\n",
    "        a_best_pm = all_page_metas[a_best_pmid]\n",
    "        a_best_th, a_best_drecs = best_ones[a_best_pmid]\n",
    "        a_best_drs = a_best_pm.load_precomputed_data_regions(a_best_th, 10)\n",
    "        a_best_doc = a_best_pm.get_named_nodes_html_tree()\n",
    "        data_records_nodes = core.get_data_records_as_nodes(a_best_doc, a_best_drecs)\n",
    "        core.paint_data_records(data_records_nodes)\n",
    "        fm.PageMeta.persist_html(a_best_pm.colored_html, a_best_doc)\n",
    "        \n",
    "        print(a_best_pm.n_data_records)\n",
    "        print(a_best_pm.url)\n",
    "        print(str(a_best_pm.raw_html))\n",
    "        print(str(a_best_pm.colored_html))\n",
    "        print(\"\")\n",
    "    \n",
    "    except Exception as ex:\n",
    "        import traceback\n",
    "        print(ex)\n",
    "        print(a_best_pmid)\n",
    "        traceback.print_stack()\n",
    "    "
   ]
  }
 ],
 "metadata": {
  "kernelspec": {
   "display_name": "Python 3",
   "language": "python",
   "name": "python3"
  },
  "language_info": {
   "codemirror_mode": {
    "name": "ipython",
    "version": 3
   },
   "file_extension": ".py",
   "mimetype": "text/x-python",
   "name": "python",
   "nbconvert_exporter": "python",
   "pygments_lexer": "ipython3",
   "version": "3.6.9"
  }
 },
 "nbformat": 4,
 "nbformat_minor": 1
}